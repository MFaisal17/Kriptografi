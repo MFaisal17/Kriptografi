{
  "nbformat": 4,
  "nbformat_minor": 0,
  "metadata": {
    "colab": {
      "provenance": [],
      "authorship_tag": "ABX9TyPg1OKodMZ23z/ronbevMng",
      "include_colab_link": true
    },
    "kernelspec": {
      "name": "python3",
      "display_name": "Python 3"
    },
    "language_info": {
      "name": "python"
    }
  },
  "cells": [
    {
      "cell_type": "markdown",
      "metadata": {
        "id": "view-in-github",
        "colab_type": "text"
      },
      "source": [
        "<a href=\"https://colab.research.google.com/github/MFaisal17/Kriptografi/blob/main/m_faisal-tanjung.ipynb\" target=\"_parent\"><img src=\"https://colab.research.google.com/assets/colab-badge.svg\" alt=\"Open In Colab\"/></a>"
      ]
    },
    {
      "cell_type": "markdown",
      "source": [
        "Chaesar Chipper dengan ASCII"
      ],
      "metadata": {
        "id": "zP8FsZJ6gaYY"
      }
    },
    {
      "cell_type": "code",
      "source": [
        "def caesar_cipher(text, shift):\n",
        "    result = \"\"\n",
        "    for char in text:\n",
        "        # Periksa apakah karakter adalah huruf alfabet\n",
        "        if char.isalpha():\n",
        "            # Tentukan apakah karakter adalah huruf besar atau kecil\n",
        "            if char.isupper():\n",
        "                # Enkripsi huruf besar\n",
        "                result += chr(((ord(char) - 65 + shift) % 26) + 65)\n",
        "            else:\n",
        "                # Enkripsi huruf kecil\n",
        "                result += chr(((ord(char) - 97 + shift) % 26) + 97)\n",
        "        else:\n",
        "            # Tambahkan karakter non-alfabet tanpa perubahan\n",
        "            result += char\n",
        "    return result\n",
        "\n",
        "# Input teks yang akan dienkripsi\n",
        "plaintext = input(\"Masukkan teks yang akan dienkripsi: \")\n",
        "# Input jumlah pergeseran\n",
        "shift = int(input(\"Masukkan jumlah pergeseran: \"))\n",
        "\n",
        "# Panggil fungsi caesar_cipher untuk mengenkripsi teks\n",
        "ciphertext = caesar_cipher(plaintext, shift)\n",
        "\n",
        "# Tampilkan teks terenkripsi\n",
        "print(\"Teks terenkripsi:\", ciphertext)"
      ],
      "metadata": {
        "colab": {
          "base_uri": "https://localhost:8080/"
        },
        "id": "3MXWIFOtgm8z",
        "outputId": "305f806d-cdce-464a-8580-870a8a5c0732"
      },
      "execution_count": null,
      "outputs": [
        {
          "output_type": "stream",
          "name": "stdout",
          "text": [
            "Masukkan teks yang akan dienkripsi: cappo\n",
            "Masukkan jumlah pergeseran: 6\n",
            "Teks terenkripsi: igvvu\n"
          ]
        }
      ]
    },
    {
      "cell_type": "markdown",
      "source": [
        "Caesar Cipher tanpa ASCII"
      ],
      "metadata": {
        "id": "qb1NXnG1gtnk"
      }
    },
    {
      "cell_type": "code",
      "source": [
        "def caesar_cipher(text, shift):\n",
        "    alphabet = 'ABCDEFGHIJKLMNOPQRSTUVWXYZ'\n",
        "    result = \"\"\n",
        "    for char in text:\n",
        "        if char.isalpha():\n",
        "            is_upper = char.isupper()\n",
        "            char = char.upper()\n",
        "            shifted_char = alphabet[(alphabet.index(char) + shift) % 26]\n",
        "            if not is_upper:\n",
        "                shifted_char = shifted_char.lower()\n",
        "            result += shifted_char\n",
        "        else:\n",
        "            result += char\n",
        "    return result\n",
        "\n",
        "text = input(\"Masukkan teks yang ingin dienkripsi: \")\n",
        "shift = int(input(\"Masukkan jumlah pergeseran: \"))\n",
        "\n",
        "encrypted_text = caesar_cipher(text, shift)\n",
        "print(\"Teks terenkripsi:\", encrypted_text)\n"
      ],
      "metadata": {
        "colab": {
          "base_uri": "https://localhost:8080/"
        },
        "id": "fz1juvrOg1t3",
        "outputId": "c9fb2d30-0c96-44d1-e3e8-6aa97af29b9f"
      },
      "execution_count": null,
      "outputs": [
        {
          "output_type": "stream",
          "name": "stdout",
          "text": [
            "Masukkan teks yang ingin dienkripsi: M Faisal Tanjung\n",
            "Masukkan jumlah pergeseran: 6\n",
            "Teks terenkripsi: S Lgoygr Zgtpatm\n"
          ]
        }
      ]
    },
    {
      "cell_type": "markdown",
      "source": [
        "Caesar Cipher Enkripsi dan Dekripsi"
      ],
      "metadata": {
        "id": "CnC0-tN3g8yC"
      }
    },
    {
      "cell_type": "code",
      "source": [
        "def caesar_cipher(text, shift):\n",
        "    result = \"\"\n",
        "\n",
        "    for char in text:\n",
        "        # Periksa apakah karakter adalah karakter ASCII\n",
        "        if 0 <= ord(char) <= 255:\n",
        "            # Hitung indeks baru setelah pergeseran\n",
        "            shifted_index = (ord(char) + shift) % 256\n",
        "\n",
        "            # Konversi kembali ke karakter ASCII\n",
        "            result += chr(shifted_index)\n",
        "        else:\n",
        "            # Jika karakter bukan karakter ASCII, tambahkan ke hasil tanpa perubahan\n",
        "            result += char\n",
        "\n",
        "    return result\n",
        "\n",
        "while True:\n",
        "    print(\"Pilih tindakan:\")\n",
        "    print(\"1. Enkripsi\")\n",
        "    print(\"2. Dekripsi\")\n",
        "    print(\"3. Keluar\")\n",
        "\n",
        "    choice = input(\"Masukkan pilihan (1/2/3): \")\n",
        "\n",
        "    if choice == '1':\n",
        "        text = input(\"Masukkan teks yang ingin Anda enkripsi: \")\n",
        "        shift = int(input(\"Masukkan jumlah pergeseran (contoh: 3): \"))\n",
        "        encrypted_text = caesar_cipher(text, shift)\n",
        "        print(\"Teks terenkripsi:\", encrypted_text)\n",
        "    elif choice == '2':\n",
        "        text = input(\"Masukkan teks yang ingin Anda dekripsi: \")\n",
        "        shift = int(input(\"Masukkan jumlah pergeseran (contoh: 3): \"))\n",
        "        decrypted_text = caesar_cipher(text, -shift)\n",
        "        print(\"Teks terdekripsi:\", decrypted_text)\n",
        "    elif choice == '3':\n",
        "        print(\"Terima kasih!\")\n",
        "        break\n",
        "    else:\n",
        "        print(\"Pilihan tidak valid. Silakan pilih 1, 2, atau 3.\")"
      ],
      "metadata": {
        "colab": {
          "base_uri": "https://localhost:8080/"
        },
        "id": "cfeGRR87hBhS",
        "outputId": "8e493110-41db-4af5-a2da-7da28c42579d"
      },
      "execution_count": null,
      "outputs": [
        {
          "output_type": "stream",
          "name": "stdout",
          "text": [
            "Pilih tindakan:\n",
            "1. Enkripsi\n",
            "2. Dekripsi\n",
            "3. Keluar\n",
            "Masukkan pilihan (1/2/3): enkripsi\n",
            "Pilihan tidak valid. Silakan pilih 1, 2, atau 3.\n",
            "Pilih tindakan:\n",
            "1. Enkripsi\n",
            "2. Dekripsi\n",
            "3. Keluar\n",
            "Masukkan pilihan (1/2/3): 3\n",
            "Terima kasih!\n"
          ]
        }
      ]
    },
    {
      "cell_type": "markdown",
      "source": [
        "Program Cipher Vigenere"
      ],
      "metadata": {
        "id": "MOlWqsBzhIL8"
      }
    },
    {
      "cell_type": "code",
      "source": [
        "# Fungsi untuk mengenkripsi teks dengan cipher Vigenere\n",
        "def encrypt(text, key):\n",
        "    encrypted_text = \"\"\n",
        "    key_length = len(key)\n",
        "\n",
        "    for i in range(len(text)):\n",
        "        char = text[i]\n",
        "        if char.isalpha():\n",
        "            shift = ord(key[i % key_length]) - ord('A')\n",
        "            if char.islower():\n",
        "                encrypted_char = chr(((ord(char) - ord('a') + shift) % 26) + ord('a'))\n",
        "            else:\n",
        "                encrypted_char = chr(((ord(char) - ord('A') + shift) % 26) + ord('A'))\n",
        "        else:\n",
        "            encrypted_char = char\n",
        "        encrypted_text += encrypted_char\n",
        "\n",
        "    return encrypted_text\n",
        "\n",
        "# Fungsi untuk mendekripsi teks dengan cipher Vigenere\n",
        "def decrypt(encrypted_text, key):\n",
        "    decrypted_text = \"\"\n",
        "    key_length = len(key)\n",
        "\n",
        "    for i in range(len(encrypted_text)):\n",
        "        char = encrypted_text[i]\n",
        "        if char.isalpha():\n",
        "            shift = ord(key[i % key_length]) - ord('A')\n",
        "            if char.islower():\n",
        "                decrypted_char = chr(((ord(char) - ord('a') - shift) % 26) + ord('a'))\n",
        "            else:\n",
        "                decrypted_char = chr(((ord(char) - ord('A') - shift) % 26) + ord('A'))\n",
        "        else:\n",
        "            decrypted_char = char\n",
        "        decrypted_text += decrypted_char\n",
        "\n",
        "    return decrypted_text\n",
        "\n",
        "# Fungsi untuk login\n",
        "def login(username, password):\n",
        "    # Ganti kunci berikut dengan kunci yang Anda inginkan\n",
        "    key = \"123\"\n",
        "\n",
        "    # Simpan username dan password yang telah dienkripsi\n",
        "    encrypted_username = encrypt(username, key)\n",
        "    encrypted_password = encrypt(password, key)\n",
        "\n",
        "    # Simpan username dan password yang benar\n",
        "    correct_username = encrypt(\"Rizki\", key)\n",
        "    correct_password = encrypt(\"123\", key)\n",
        "\n",
        "    # Periksa apakah username dan password yang dimasukkan benar\n",
        "    if encrypted_username == correct_username and encrypted_password == correct_password:\n",
        "        return True\n",
        "    else:\n",
        "        return False\n",
        "\n",
        "# Contoh penggunaan\n",
        "while True:\n",
        "    print(\"Selamat datang di sistem login Vigenere Cipher!\")\n",
        "    username = input(\"Masukkan username: \")\n",
        "    password = input(\"Masukkan password: \")\n",
        "\n",
        "    if login(username, password):\n",
        "        print(\"Login berhasil!\")\n",
        "        break\n",
        "    else:\n",
        "        print(\"Login gagal. Coba lagi.\")"
      ],
      "metadata": {
        "colab": {
          "base_uri": "https://localhost:8080/"
        },
        "id": "_OfCAa_qhNDC",
        "outputId": "6a9141ae-1166-408e-e4c8-debf3d5bbc81"
      },
      "execution_count": null,
      "outputs": [
        {
          "output_type": "stream",
          "name": "stdout",
          "text": [
            "Selamat datang di sistem login Vigenere Cipher!\n",
            "Masukkan username: m fasial tanjung\n",
            "Masukkan password: faisal123\n",
            "Login gagal. Coba lagi.\n",
            "Selamat datang di sistem login Vigenere Cipher!\n",
            "Masukkan username: m faisal tanjung\n",
            "Masukkan password: 123456\n",
            "Login gagal. Coba lagi.\n",
            "Selamat datang di sistem login Vigenere Cipher!\n"
          ]
        }
      ]
    },
    {
      "cell_type": "markdown",
      "source": [
        "Program Poly Alphabet Cipher"
      ],
      "metadata": {
        "id": "oRAXgOf8hTm8"
      }
    },
    {
      "cell_type": "code",
      "source": [
        "def encrypt_vigenere(plain_text, key):\n",
        "    encrypted_text = \"\"\n",
        "    key_length = len(key)\n",
        "    for i in range(len(plain_text)):\n",
        "        char = plain_text[i]\n",
        "        if char.isalpha():\n",
        "            key_char = key[i % key_length]\n",
        "            shift = ord(key_char.upper()) - ord('A')\n",
        "            if char.isupper():\n",
        "                encrypted_text += chr((ord(char) + shift - ord('A')) % 26 + ord('A'))\n",
        "            elif char.islower():\n",
        "                encrypted_text += chr((ord(char) + shift - ord('a')) % 26 + ord('a'))\n",
        "        else:\n",
        "            encrypted_text += char\n",
        "    return encrypted_text\n",
        "\n",
        "def decrypt_vigenere(encrypted_text, key):\n",
        "    decrypted_text = \"\"\n",
        "    key_length = len(key)\n",
        "    for i in range(len(encrypted_text)):\n",
        "        char = encrypted_text[i]\n",
        "        if char.isalpha():\n",
        "            key_char = key[i % key_length]\n",
        "            shift = ord(key_char.upper()) - ord('A')\n",
        "            if char.isupper():\n",
        "                decrypted_text += chr((ord(char) - shift - ord('A')) % 26 + ord('A'))\n",
        "            elif char.islower():\n",
        "                decrypted_text += chr((ord(char) - shift - ord('a')) % 26 + ord('a'))\n",
        "        else:\n",
        "            decrypted_text += char\n",
        "    return decrypted_text\n",
        "\n",
        "# Example usage:\n",
        "plaintext = \"HelloWorld\"\n",
        "key = \"KEY\"\n",
        "encrypted_text = encrypt_vigenere(plaintext, key)\n",
        "print(\"Encrypted:\", encrypted_text)\n",
        "\n",
        "decrypted_text = decrypt_vigenere(encrypted_text, key)\n",
        "print(\"Decrypted:\", decrypted_text)\n"
      ],
      "metadata": {
        "id": "rbu1N6Q1hbS5"
      },
      "execution_count": null,
      "outputs": []
    },
    {
      "cell_type": "markdown",
      "source": [
        "Program Hill Cipher"
      ],
      "metadata": {
        "id": "QBV75JfKhcqO"
      }
    },
    {
      "cell_type": "code",
      "source": [
        "import numpy as np\n",
        "\n",
        "def text_to_matrix(text, n):\n",
        "    # Convert text to uppercase and remove non-alphabetic characters\n",
        "    cleaned_text = ''.join(char.upper() for char in text if char.isalpha())\n",
        "\n",
        "    # Pad the text with 'X' if necessary to make its length a multiple of n\n",
        "    while len(cleaned_text) % n != 0:\n",
        "        cleaned_text += 'X'\n",
        "\n",
        "    # Convert characters to numerical values (A=0, B=1, ..., Z=25)\n",
        "    numerical_values = [ord(char) - ord('A') for char in cleaned_text]\n",
        "\n",
        "    # Reshape the numerical values into an n x m matrix\n",
        "    matrix = np.array(numerical_values).reshape(-1, n)\n",
        "\n",
        "    return matrix\n",
        "\n",
        "def matrix_to_text(matrix):\n",
        "    # Convert numerical values to characters\n",
        "    numerical_values = matrix.flatten().tolist()\n",
        "    text = ''.join(chr(val + ord('A')) for val in numerical_values)\n",
        "    return text\n",
        "\n",
        "def encrypt_hill(plain_text, key_matrix):\n",
        "    plain_matrix = text_to_matrix(plain_text, len(key_matrix))\n",
        "    encrypted_matrix = (plain_matrix @ key_matrix) % 26\n",
        "    encrypted_text = matrix_to_text(encrypted_matrix)\n",
        "    return encrypted_text\n",
        "\n",
        "def decrypt_hill(encrypted_text, key_matrix):\n",
        "    key_matrix_inv = np.linalg.inv(key_matrix)\n",
        "    key_matrix_inv = np.round(key_matrix_inv * np.linalg.det(key_matrix)).astype(int) % 26\n",
        "    decrypted_matrix = (text_to_matrix(encrypted_text, len(key_matrix)) @ key_matrix_inv) % 26\n",
        "    decrypted_text = matrix_to_text(decrypted_matrix)\n",
        "    return decrypted_text\n",
        "\n",
        "# Get user input\n",
        "plain_text = input(\"Enter the plaintext: \").replace(\" \", \"\")\n",
        "key_matrix_str = input(\"Enter the key matrix (comma-separated, e.g., 6,24,1,13): \")\n",
        "key_matrix = np.array([int(num) for num in key_matrix_str.split(\",\")]).reshape(int(len(key_matrix_str)**0.5), -1)\n",
        "\n",
        "# Encrypt the input\n",
        "encrypted_text = encrypt_hill(plain_text, key_matrix)\n",
        "print(\"Encrypted text:\", encrypted_text)\n",
        "\n",
        "# Decrypt the encrypted text\n",
        "decrypted_text = decrypt_hill(encrypted_text, key_matrix)\n",
        "print(\"Decrypted text:\", decrypted_text)\n"
      ],
      "metadata": {
        "id": "9OlkWD9ehgYD"
      },
      "execution_count": null,
      "outputs": []
    },
    {
      "cell_type": "markdown",
      "source": [
        "Program Play Fair Cipher"
      ],
      "metadata": {
        "id": "1qRdvdoQhk-z"
      }
    },
    {
      "cell_type": "code",
      "source": [
        "def prepare_text(text):\n",
        "    # Remove spaces and convert to uppercase\n",
        "    text = text.replace(\" \", \"\").upper()\n",
        "    # Replace 'J' with 'I' (convention)\n",
        "    text = text.replace(\"J\", \"I\")\n",
        "    # Split the text into digraphs\n",
        "    digraphs = [text[i:i+2] for i in range(0, len(text), 2)]\n",
        "    # Add an 'X' to the end if the length is odd\n",
        "    if len(digraphs[-1]) == 1:\n",
        "        digraphs[-1] += \"X\"\n",
        "    return digraphs\n",
        "\n",
        "def create_keytable(key):\n",
        "    key = key.upper()\n",
        "    keytable = \"\"\n",
        "    for letter in key:\n",
        "        if letter not in keytable and letter != 'J':\n",
        "            keytable += letter\n",
        "    alphabet = \"ABCDEFGHIKLMNOPQRSTUVWXYZ\"\n",
        "    for letter in alphabet:\n",
        "        if letter not in keytable:\n",
        "            keytable += letter\n",
        "    return keytable\n",
        "\n",
        "def encrypt(plaintext, key):\n",
        "    digraphs = prepare_text(plaintext)\n",
        "    keytable = create_keytable(key)\n",
        "    ciphertext = \"\"\n",
        "    for digraph in digraphs:\n",
        "        row1, col1 = divmod(keytable.index(digraph[0]), 5)\n",
        "        row2, col2 = divmod(keytable.index(digraph[1]), 5)\n",
        "\n",
        "        if row1 == row2:\n",
        "            ciphertext += keytable[row1 * 5 + (col1 + 1) % 5]\n",
        "            ciphertext += keytable[row2 * 5 + (col2 + 1) % 5]\n",
        "        elif col1 == col2:\n",
        "            ciphertext += keytable[(row1 + 1) % 5 * 5 + col1]\n",
        "            ciphertext += keytable[(row2 + 1) % 5 * 5 + col2]\n",
        "        else:\n",
        "            ciphertext += keytable[row1 * 5 + col2]\n",
        "            ciphertext += keytable[row2 * 5 + col1]\n",
        "\n",
        "    return ciphertext\n",
        "\n",
        "def decrypt(ciphertext, key):\n",
        "    keytable = create_keytable(key)\n",
        "    plaintext = \"\"\n",
        "    for i in range(0, len(ciphertext), 2):\n",
        "        letter1 = ciphertext[i]\n",
        "        letter2 = ciphertext[i + 1]\n",
        "        row1, col1 = divmod(keytable.index(letter1), 5)\n",
        "        row2, col2 = divmod(keytable.index(letter2), 5)\n",
        "\n",
        "        if row1 == row2:\n",
        "            plaintext += keytable[row1 * 5 + (col1 - 1) % 5]\n",
        "            plaintext += keytable[row2 * 5 + (col2 - 1) % 5]\n",
        "        elif col1 == col2:\n",
        "            plaintext += keytable[(row1 - 1) % 5 * 5 + col1]\n",
        "            plaintext += keytable[(row2 - 1) % 5 * 5 + col2]\n",
        "        else:\n",
        "            plaintext += keytable[row1 * 5 + col2]\n",
        "            plaintext += keytable[row2 * 5 + col1]\n",
        "\n",
        "    return plaintext\n",
        "\n",
        "key = input(\"Masukan Kunci :\")\n",
        "plaintext = input(\"Masukan Plaintext :\")\n",
        "ciphertext = encrypt(plaintext, key)\n",
        "print(\"Ciphertext:\", ciphertext)\n",
        "decrypted_text = decrypt(ciphertext, key)\n",
        "print(\"Decrypted Text:\", decrypted_text)\n"
      ],
      "metadata": {
        "id": "8UNlQopkhqRS"
      },
      "execution_count": null,
      "outputs": []
    },
    {
      "cell_type": "markdown",
      "source": [
        "Program Affine Cipher"
      ],
      "metadata": {
        "id": "9ZaB3NpZhzFc"
      }
    },
    {
      "cell_type": "code",
      "source": [
        "def egcd(a, b):\n",
        "    if a == 0:\n",
        "        return b, 0, 1\n",
        "    else:\n",
        "        g, x, y = egcd(b % a, a)\n",
        "        return g, y - (b // a) * x, x\n",
        "\n",
        "def modinv(a, m):\n",
        "    g, x, y = egcd(a, m)\n",
        "    if g != 1:\n",
        "        raise Exception('Modular inverse does not exist')\n",
        "    else:\n",
        "        return x % m\n",
        "\n",
        "def affine_encrypt(text, key):\n",
        "    result = \"\"\n",
        "    a, b, m = key\n",
        "    for char in text:\n",
        "        if char.isalpha():\n",
        "            # Enkripsi setiap karakter\n",
        "            if char.isupper():\n",
        "                result += chr((a * (ord(char) - ord('A')) + b) % m + ord('A'))\n",
        "            else:\n",
        "                result += chr((a * (ord(char) - ord('a')) + b) % m + ord('a'))\n",
        "        else:\n",
        "            result += char\n",
        "    return result\n",
        "\n",
        "def affine_decrypt(text, key):\n",
        "    result = \"\"\n",
        "    a, b, m = key\n",
        "    a_inv = modinv(a, m)\n",
        "    for char in text:\n",
        "        if char.isalpha():\n",
        "            # Dekripsi setiap karakter\n",
        "            if char.isupper():\n",
        "                result += chr((a_inv * (ord(char) - ord('A') - b)) % m + ord('A'))\n",
        "            else:\n",
        "                result += chr((a_inv * (ord(char) - ord('a') - b)) % m + ord('a'))\n",
        "        else:\n",
        "            result += char\n",
        "    return result\n",
        "\n",
        "def main():\n",
        "    text = input(\"Masukkan teks: \")\n",
        "    a = int(input(\"Masukkan nilai a (integer): \"))\n",
        "    b = int(input(\"Masukkan nilai b (integer): \"))\n",
        "    m = 26  # panjang alfabet Inggris\n",
        "\n",
        "    key = (a, b, m)\n",
        "\n",
        "    encrypted_text = affine_encrypt(text, key)\n",
        "    decrypted_text = affine_decrypt(encrypted_text, key)\n",
        "\n",
        "    print(\"\\nTeks Enkripsi: {}\".format(encrypted_text))\n",
        "    print(\"Teks Dekripsi: {}\".format(decrypted_text))\n",
        "\n",
        "if __name__ == \"__main__\":\n",
        "    main()\n"
      ],
      "metadata": {
        "id": "b4JTsq5dh3gV"
      },
      "execution_count": null,
      "outputs": []
    },
    {
      "cell_type": "markdown",
      "source": [
        "Program Affine OTP"
      ],
      "metadata": {
        "id": "Yg9sVkBUh73G"
      }
    },
    {
      "cell_type": "code",
      "source": [
        "import random\n",
        "\n",
        "def mod_inverse(a, m):\n",
        "    # Fungsi untuk menghitung invers modulus dari a mod m\n",
        "    for i in range(1, m):\n",
        "        if (a * i) % m == 1:\n",
        "            return i\n",
        "    return None\n",
        "\n",
        "def affine_encrypt(plaintext, a, b):\n",
        "    # Fungsi untuk mengenkripsi dengan Affine Cipher\n",
        "    encrypted_text = \"\"\n",
        "    for char in plaintext:\n",
        "        if char.isalpha():\n",
        "            # Enkripsi hanya berlaku untuk huruf alphabet\n",
        "            x = ord(char) - ord('A') if char.isupper() else ord(char) - ord('a')\n",
        "            encrypted_text += chr((a * x + b) % 26 + ord('A') if char.isupper() else (a * x + b) % 26 + ord('a'))\n",
        "        else:\n",
        "            encrypted_text += char\n",
        "    return encrypted_text\n",
        "\n",
        "def generate_one_time_pad(length):\n",
        "    # Fungsi untuk menghasilkan kunci OTP acak\n",
        "    return [random.randint(0, 25) for _ in range(length)]\n",
        "\n",
        "def apply_one_time_pad(plaintext, otp):\n",
        "    # Fungsi untuk mengenkripsi dengan OTP\n",
        "    encrypted_text = \"\"\n",
        "    for i, char in enumerate(plaintext):\n",
        "        if char.isalpha():\n",
        "            x = ord(char) - ord('A') if char.isupper() else ord(char) - ord('a')\n",
        "            encrypted_text += chr((x + otp[i]) % 26 + ord('A') if char.isupper() else (x + otp[i]) % 26 + ord('a'))\n",
        "        else:\n",
        "            encrypted_text += char\n",
        "    return encrypted_text\n",
        "\n",
        "# Contoh penggunaan Affine Cipher\n",
        "plaintext = \"HelloWorld\"\n",
        "a = 5\n",
        "b = 8\n",
        "affine_encrypted_text = affine_encrypt(plaintext, a, b)\n",
        "print(\"Affine Encrypted:\", affine_encrypted_text)\n",
        "\n",
        "# Contoh penggunaan One-Time Pad\n",
        "otp_key = generate_one_time_pad(len(plaintext))\n",
        "otp_encrypted_text = apply_one_time_pad(plaintext, otp_key)\n",
        "print(\"OTP Encrypted:\", otp_encrypted_text)\n"
      ],
      "metadata": {
        "id": "LDOCL0AWiALV"
      },
      "execution_count": null,
      "outputs": []
    },
    {
      "cell_type": "markdown",
      "source": [
        "Program Stegano"
      ],
      "metadata": {
        "id": "W3I_nhW3iFkX"
      }
    },
    {
      "cell_type": "code",
      "source": [
        "!pip install Pillow"
      ],
      "metadata": {
        "id": "wPre-_VyiG-R"
      },
      "execution_count": null,
      "outputs": []
    },
    {
      "cell_type": "code",
      "source": [
        "from PIL import Image\n",
        "\n",
        "def encode_image(image_path, message, output_path):\n",
        "    # Baca gambar\n",
        "    img = Image.open(image_path)\n",
        "    pixels = list(img.getdata())\n",
        "\n",
        "    # Konversi pesan menjadi binary\n",
        "    binary_message = ''.join(format(ord(char), '08b') for char in message)\n",
        "\n",
        "    # Sisipkan pesan pada gambar\n",
        "    encoded_pixels = []\n",
        "    message_index = 0\n",
        "    for pixel in pixels:\n",
        "        if message_index < len(binary_message):\n",
        "            # Ubah bit terakhir pada setiap channel dengan bit pesan\n",
        "            encoded_pixel = tuple(\n",
        "                value & 0b11111110 | int(binary_message[message_index])\n",
        "                for value in pixel\n",
        "            )\n",
        "            encoded_pixels.append(encoded_pixel)\n",
        "            message_index += 1\n",
        "        else:\n",
        "            encoded_pixels.append(pixel)\n",
        "\n",
        "    # Simpan gambar yang telah diencode\n",
        "    encoded_img = Image.new(img.mode, img.size)\n",
        "    encoded_img.putdata(encoded_pixels)\n",
        "    encoded_img.save(output_path)\n",
        "\n",
        "    print(\"Pesan berhasil disisipkan pada gambar.\")\n",
        "\n",
        "def decode_image(image_path):\n",
        "    # Baca gambar\n",
        "    img = Image.open(image_path)\n",
        "    pixels = list(img.getdata())\n",
        "\n",
        "    # Ekstrak pesan dari bit terakhir setiap channel\n",
        "    binary_message = ''.join(str(pixel[-1] & 1) for pixel in pixels)\n",
        "\n",
        "    # Konversi binary message ke string\n",
        "    message = ''.join(chr(int(binary_message[i:i+8], 2)) for i in range(0, len(binary_message), 8))\n",
        "\n",
        "    print(\"Pesan yang tersembunyi pada gambar:\")\n",
        "    print(message)\n",
        "\n",
        "# Contoh penggunaan\n",
        "image_path = '/content/sample_data/screenshot.png'\n",
        "output_path = '/content/sample_data/jr.png'\n",
        "message_to_hide = 'jancok.'\n",
        "\n",
        "# Encode pesan pada gambar\n",
        "encode_image(image_path, message_to_hide, output_path)\n",
        "\n",
        "# Decode pesan dari gambar\n",
        "decode_image(output_path)\n"
      ],
      "metadata": {
        "id": "5ZG5IaN3iKUX"
      },
      "execution_count": null,
      "outputs": []
    },
    {
      "cell_type": "markdown",
      "source": [
        "Program Pengukuran Citra"
      ],
      "metadata": {
        "id": "g6UTw2XyiUH5"
      }
    },
    {
      "cell_type": "code",
      "source": [
        "!pip install opencv-python"
      ],
      "metadata": {
        "id": "6Mw1jbRNiVZ8"
      },
      "execution_count": null,
      "outputs": []
    },
    {
      "cell_type": "code",
      "source": [
        "import cv2\n",
        "import numpy as np\n",
        "\n",
        "def hitung_rata_rata_intensitas(citra):\n",
        "    # Mengambil dimensi citra\n",
        "    tinggi, lebar, _ = citra.shape\n",
        "\n",
        "    # Menghitung rata-rata intensitas piksel\n",
        "    total_intensitas = np.sum(citra)\n",
        "    rata_rata_intensitas = total_intensitas / (tinggi * lebar)\n",
        "\n",
        "    return rata_rata_intensitas\n",
        "\n",
        "# Membaca citra dari file\n",
        "nama_file_citra = '/content/screenshot.png'\n",
        "citra = cv2.imread(nama_file_citra)\n",
        "\n",
        "# Menghitung rata-rata intensitas piksel\n",
        "rata_rata = hitung_rata_rata_intensitas(citra)\n",
        "\n",
        "# Menampilkan hasil\n",
        "print(f'Rata-rata Intensitas Piksel: {rata_rata}')\n"
      ],
      "metadata": {
        "id": "Q1ukOVvniZ0C"
      },
      "execution_count": null,
      "outputs": []
    }
  ]
}